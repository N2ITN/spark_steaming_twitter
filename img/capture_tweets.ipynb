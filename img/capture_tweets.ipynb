{
 "cells": [
  {
   "cell_type": "code",
   "execution_count": 1,
   "metadata": {
    "collapsed": true
   },
   "outputs": [],
   "source": [
    "import tweepy\n",
    "from tweepy import OAuthHandler\n",
    "from tweepy import Stream\n",
    "from tweepy.streaming import StreamListener\n",
    "import socket\n",
    "import json\n",
    "\n",
    "import sys\n",
    "\n",
    "\n",
    "consumer_key = 'JUBAHyA8TiRa506bpM8vNKFiG'\n",
    "consumer_secret = 'kWoZuwVSXtpx9Ulc5evUVKQnIuAUMJ7g7HzF6w2rceeyRvnTsQ'\n",
    "access_token = '726975631477510145-H4s5C7SW41kp8JHUXEQrejnzobhVNWJ'\n",
    "access_secret = 'DE50Hwrgb5h2eJ53nhwTw9J9qdO78CUe5BRczNNYCTXNw'"
   ]
  },
  {
   "cell_type": "code",
   "execution_count": 2,
   "metadata": {
    "collapsed": false
   },
   "outputs": [],
   "source": [
    "class TweetsListener(StreamListener):\n",
    "\n",
    "  def __init__(self, csocket):\n",
    "    self.client_socket = csocket\n",
    "    \n",
    "  def on_data(self, data):\n",
    "    try:\n",
    "        msg = json.loads( data )\n",
    "        print( msg['text'].encode('utf-8') )\n",
    "        self.client_socket.send( msg['text'].encode('utf-8') )\n",
    "        return True\n",
    "    except BaseException as e:\n",
    "        print(\"Error on_data: %s\" % str(e))\n",
    "        return True\n",
    "\n",
    "def on_error(self, status):\n",
    "    print(status)\n",
    "    return True\n",
    "\n",
    "def sendData(c_socket,tag):\n",
    "    auth = OAuthHandler(consumer_key, consumer_secret)\n",
    "    auth.set_access_token(access_token, access_secret)\n",
    "    twitter_stream = Stream(auth, TweetsListener(c_socket))\n",
    "    twitter_stream.filter(track=[tag])\n",
    "#     print (twitter_stream)\n",
    "    "
   ]
  },
  {
   "cell_type": "code",
   "execution_count": null,
   "metadata": {
    "collapsed": false
   },
   "outputs": [
    {
     "name": "stdout",
     "output_type": "stream",
     "text": [
      "Listening on port: 5555\n"
     ]
    }
   ],
   "source": [
    "def main():\n",
    "    s = socket.socket()         # Create a socket object\n",
    "    host = \"127.0.0.1\"          # Get local machine name\n",
    "    port = 5555                 # Reserve a port for your service.\n",
    "    s.bind((host, port))        # Bind to the port\n",
    "\n",
    "    print(\"Listening on port: %s\" % str(port))\n",
    "\n",
    "    s.listen(5)                 # Now wait for client connection.\n",
    "    c, addr = s.accept()        # Establish connection with client.\n",
    "\n",
    "    print( \"Received request from: \" + str( addr ) )\n",
    "#     tag = sys.argv[1]\n",
    "    tag = 'kanye'\n",
    "    sendData(c,tag)\n",
    "main()"
   ]
  },
  {
   "cell_type": "code",
   "execution_count": null,
   "metadata": {
    "collapsed": true
   },
   "outputs": [],
   "source": []
  }
 ],
 "metadata": {
  "anaconda-cloud": {},
  "kernelspec": {
   "display_name": "Python [Root]",
   "language": "python",
   "name": "Python [Root]"
  },
  "language_info": {
   "codemirror_mode": {
    "name": "ipython",
    "version": 2
   },
   "file_extension": ".py",
   "mimetype": "text/x-python",
   "name": "python",
   "nbconvert_exporter": "python",
   "pygments_lexer": "ipython2",
   "version": "2.7.12"
  }
 },
 "nbformat": 4,
 "nbformat_minor": 1
}
